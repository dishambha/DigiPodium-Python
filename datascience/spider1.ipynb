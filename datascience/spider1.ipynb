{
 "cells": [
  {
   "cell_type": "code",
   "execution_count": null,
   "metadata": {},
   "outputs": [],
   "source": []
  },
  {
   "cell_type": "markdown",
   "metadata": {},
   "source": [
    "mardown cell"
   ]
  },
  {
   "cell_type": "code",
   "execution_count": null,
   "metadata": {},
   "outputs": [],
   "source": []
  },
  {
   "cell_type": "code",
   "execution_count": 3,
   "metadata": {},
   "outputs": [],
   "source": [
    "import requests\n",
    "from bs4 import BeautifulSoup"
   ]
  },
  {
   "cell_type": "code",
   "execution_count": null,
   "metadata": {},
   "outputs": [],
   "source": []
  },
  {
   "cell_type": "code",
   "execution_count": null,
   "metadata": {},
   "outputs": [],
   "source": []
  },
  {
   "cell_type": "code",
   "execution_count": 4,
   "metadata": {},
   "outputs": [
    {
     "name": "stdout",
     "output_type": "stream",
     "text": [
      "200\n"
     ]
    }
   ],
   "source": [
    "addr = \"https://www.ndtv.com/latest\"\n",
    "page = requests.get(addr)\n",
    "print(page.status_code)"
   ]
  },
  {
   "cell_type": "code",
   "execution_count": 5,
   "metadata": {},
   "outputs": [],
   "source": [
    "soup = BeautifulSoup(page.text)"
   ]
  },
  {
   "cell_type": "code",
   "execution_count": 6,
   "metadata": {},
   "outputs": [
    {
     "name": "stdout",
     "output_type": "stream",
     "text": [
      "target found\n"
     ]
    }
   ],
   "source": [
    "target = soup.find(\"div\", attrs={\"class\":\"lisingNews\"})\n",
    "if target is not None :\n",
    "    print(\"target found\")\n",
    "else:\n",
    "    print(\"could not find targetted area\")"
   ]
  },
  {
   "cell_type": "code",
   "execution_count": 7,
   "metadata": {},
   "outputs": [
    {
     "name": "stdout",
     "output_type": "stream",
     "text": [
      "17 news headlines found.\n"
     ]
    }
   ],
   "source": [
    "news = target.find_all(\"div\",attrs={\"class\":\"news_Itm\"})\n",
    "if news is not None:\n",
    "    print(len(news),\"news headlines found.\")\n",
    "else:\n",
    "    print(\"could not find the tags you are looking for\")"
   ]
  },
  {
   "cell_type": "code",
   "execution_count": 8,
   "metadata": {},
   "outputs": [
    {
     "name": "stdout",
     "output_type": "stream",
     "text": [
      "no titles found\n",
      "no titles found\n",
      "[{'#': 1, 'title': 'Controversial Law AFSPA Extended In 9 Nagaland Districts', 'summary': 'The Central government has extended the Armed Forces (Special Powers) Act in nine districts of Nagaland including Dimapur, Niuland, Chumoukedima, Mon, Kiphire, Noklak, Phek, Peren and Zunheboto from Saturday (October 1) to March 30 next year.', 'source': 'Asian News International', 'location': 'Saturday October 01, 2022, New Delhi'}, {'#': 2, 'title': 'IIT Kanpur Extends Last Date To Apply For GATE 2023', 'summary': 'GATE 2023 Exam: Candidates can now apply online for GATE 2023 at gate.iitk.ac.in by October 4 without any late GATE 2023 registration fee.', 'source': 'Written by Mridusmita Deka', 'location': 'Saturday October 01, 2022'}, {'#': 3, 'title': 'Pakistan vs England: Babar Azam Equals Virat Kohli For Big T20I Milestone, Joins Elusive List', 'summary': 'Pakistan vs England: Babar Azam became only the fifth player to score more than 3000 T20I runs, and he was the joint-quickest to get to the milestone along with Virat Kohli.', 'source': 'Abhimanyu Bose', 'location': 'Saturday October 01, 2022'}, {'#': 5, 'title': 'Centre Extends Controversial Law AFSPA In 3 Arunachal Pradesh Districts', 'summary': 'The Central government has extended the Armed Forces (Special Powers) Act in three districts of Arunachal Pradesh including Tirap, Changlang and Longding districts from Saturday (October 1, 2022) to March 30 next year.', 'source': 'Asian News International', 'location': 'Saturday October 01, 2022, New Delhi'}, {'#': 6, 'title': 'KCET Result 2022: Karnataka UGCET Revised Ranks Today At Kea.kar.nic.in', 'summary': 'KCET Result 2022: KEA will announce the revised Karnataka CET 2022 ranks today, October 1 at cetonline.karnataka.gov.in, kea.kar.nic.in.', 'source': 'Written by Mridusmita Deka', 'location': 'Saturday October 01, 2022'}, {'#': 7, 'title': \"Watch: MS Dhoni Shows Off His Golf Skills In Kapil Dev's Tournament\", 'summary': \"MS Dhoni was invited by Kapil Dev to play the Kapil Dev - Grant Thornton Invitational 2022' tournament and some of his strokes reminded fans of him hitting sixes out of the park.\", 'source': 'Aditya Kumar', 'location': 'Saturday October 01, 2022'}, {'#': 9, 'title': 'Watch: Stunning Drone Footage Of Navratri Garba In Gujarat', 'summary': \"With Navratri celebrations in full swing, thousands of devotees were seen playing the Garba in Vadodara Navratri Festival (VNF) in Gujarat's Vadodara on Friday.\", 'source': 'NDTV News Desk', 'location': 'Saturday October 01, 2022'}, {'#': 10, 'title': \"'Mahatma Gandhi' Makes Special Appearance At UN With Message On Education\", 'summary': \"In a first, Mahatma Gandhi made a special appearance at the United Nations, sharing his message on education at the world organisation as it commemorated the International Day of Non-Violence on the occasion of the Indian leader's birth anniversary.\", 'source': 'Press Trust of India', 'location': 'Saturday October 01, 2022, United Nations'}, {'#': 11, 'title': '\"That Perhaps Stoked Anger In Me\": How Family\\'s Lack Of Belief Motivated A Young Jasprit Bumrah', 'summary': \"Jasprit Bumrah revealed how his family's lack of belief in him having a career in cricket fuelled his journey to becoming India's premier fast bowler.\", 'source': 'Abhimanyu Bose', 'location': 'Saturday October 01, 2022'}, {'#': 12, 'title': \"Delhi's Education Revolution Has Made Physical Infrastructure Of Schools World-Class: Manish Sisodia\", 'summary': 'Manish Sisodia visited Sarvodaya Co-Ed School, I P Extension, on Friday and interacted with students there.', 'source': 'Reported by Press Trust of India', 'location': 'Saturday October 01, 2022'}, {'#': 13, 'title': '\"American Crisis\": After Florida, Hurricane Ian Hits South Carolina', 'summary': 'Deadly Hurricane Ian, one of the most powerful storms ever to hit the United States, roared into South Carolina on Friday, delivering a powerful second punch after walloping Florida.', 'source': 'Agence France-Presse', 'location': 'Saturday October 01, 2022, Fort Myers, US'}, {'#': 14, 'title': \"Hold 'Route Marches' On November 6: High Court Tells RSS\", 'summary': \"The Madras High Court on Friday directed the Rashtriya Swayamsevak Sangh (RSS) to hold its 'route marches' and public meetings in 51 places in Tamil Nadu on November 6, instead of the originally proposed October 2.\", 'source': 'Press Trust of India', 'location': 'Saturday October 01, 2022, Chennai'}, {'#': 15, 'title': 'Opinion: Mallikarjun Kharge Is A Good Choice For The Congress', 'summary': \"With the Gandhis' blessing, Mallikarjun Kharge will almost certainly win the election for Congress President. Why is this choice being trashed?\", 'source': 'Ashutosh', 'location': 'Saturday October 01, 2022'}, {'#': 16, 'title': 'NASA Plans To Launch Its Moon Mega-Rocket In November', 'summary': 'NASA said Friday it would try to launch its Moon mega-rocket in November, without committing to a precise date for the much-delayed Artemis 1 mission.', 'source': 'Agence France-Presse', 'location': 'Saturday October 01, 2022, Washington'}, {'#': 17, 'title': '5G Service Launch Live Updates: PM Modi To Launch 5G Services In India', 'summary': 'Prime Minister Narendra Modi will launch 5G services in India today in select cities. The service is expected to progressively cover the entire country over the next couple of years.', 'source': 'NDTV Newsdesk', 'location': 'Saturday October 01, 2022, New Delhi'}]\n"
     ]
    }
   ],
   "source": [
    "#final extraction code\n",
    "news_data = [] #empty list\n",
    "for idx, entry in enumerate(news):\n",
    "    title = entry.find(\"h2\",attrs={\"class\":\"newsHdng\"})\n",
    "    summary = entry.find(\"p\",attrs={\"class\":\"newsCont\"})\n",
    "    info = entry.find(\"span\",attrs={\"class\":\"posted-by\"})\n",
    "    if title is not None:\n",
    "        source,location = info.text.split(\"|\")\n",
    "        news_data.append({\n",
    "            \"#\": idx+1,\n",
    "            \"title\": title.text.strip(),\n",
    "            \"summary\": summary.text.strip(),\n",
    "            \"source\": source.strip(),\n",
    "            \"location\": location.strip(),\n",
    "        })\n",
    "    else :\n",
    "        print(\"no titles found\")\n",
    "print(news_data)"
   ]
  }
 ],
 "metadata": {
  "kernelspec": {
   "display_name": "Python 3.9.12 ('base')",
   "language": "python",
   "name": "python3"
  },
  "language_info": {
   "codemirror_mode": {
    "name": "ipython",
    "version": 3
   },
   "file_extension": ".py",
   "mimetype": "text/x-python",
   "name": "python",
   "nbconvert_exporter": "python",
   "pygments_lexer": "ipython3",
   "version": "3.9.12"
  },
  "orig_nbformat": 4,
  "vscode": {
   "interpreter": {
    "hash": "c28b3cece02bc02c12fa5766a988d4443922620539affbc7b46a193a80d0f256"
   }
  }
 },
 "nbformat": 4,
 "nbformat_minor": 2
}
