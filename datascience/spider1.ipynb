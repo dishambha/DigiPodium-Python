{
 "cells": [
  {
   "cell_type": "code",
   "execution_count": null,
   "metadata": {},
   "outputs": [],
   "source": []
  },
  {
   "cell_type": "markdown",
   "metadata": {},
   "source": [
    "mardown cell"
   ]
  },
  {
   "cell_type": "code",
   "execution_count": null,
   "metadata": {},
   "outputs": [],
   "source": []
  },
  {
   "cell_type": "code",
   "execution_count": 3,
   "metadata": {},
   "outputs": [],
   "source": [
    "import requests\n",
    "from bs4 import BeautifulSoup"
   ]
  },
  {
   "cell_type": "code",
   "execution_count": null,
   "metadata": {},
   "outputs": [],
   "source": []
  },
  {
   "cell_type": "code",
   "execution_count": null,
   "metadata": {},
   "outputs": [],
   "source": []
  },
  {
   "cell_type": "code",
   "execution_count": 4,
   "metadata": {},
   "outputs": [
    {
     "name": "stdout",
     "output_type": "stream",
     "text": [
      "200\n"
     ]
    }
   ],
   "source": [
    "addr = \"https://www.ndtv.com/latest\"\n",
    "page = requests.get(addr)\n",
    "print(page.status_code)"
   ]
  },
  {
   "cell_type": "code",
   "execution_count": 5,
   "metadata": {},
   "outputs": [],
   "source": [
    "soup = BeautifulSoup(page.text)"
   ]
  },
  {
   "cell_type": "code",
   "execution_count": 6,
   "metadata": {},
   "outputs": [
    {
     "name": "stdout",
     "output_type": "stream",
     "text": [
      "target found\n"
     ]
    }
   ],
   "source": [
    "target = soup.find(\"div\", attrs={\"class\":\"lisingNews\"})\n",
    "if target is not None :\n",
    "    print(\"target found\")\n",
    "else:\n",
    "    print(\"could not find targetted area\")"
   ]
  },
  {
   "cell_type": "code",
   "execution_count": 7,
   "metadata": {},
   "outputs": [
    {
     "name": "stdout",
     "output_type": "stream",
     "text": [
      "17 news headlines found.\n"
     ]
    }
   ],
   "source": [
    "news = target.find_all(\"div\",attrs={\"class\":\"news_Itm\"})\n",
    "if news is not None:\n",
    "    print(len(news),\"news headlines found.\")\n",
    "else:\n",
    "    print(\"could not find the tags you are looking for\")"
   ]
  },
  {
   "cell_type": "code",
   "execution_count": 8,
   "metadata": {},
   "outputs": [
    {
     "name": "stdout",
     "output_type": "stream",
     "text": [
      "no titles found\n",
      "no titles found\n",
      "[{'#': 1, 'title': 'Man Accused Of Killing Cop During 2020 Delhi Riots, Arrested In UP', 'summary': 'A 33-year-old man, accused in the killing of Delhi Police Head Constable Ratan Lal during the 2020 northeast Delhi riots, was arrested from Aligarh in Uttar Pradesh, police said on Monday.', 'source': 'Press Trust of India', 'location': 'Monday October 03, 2022, New Delhi'}, {'#': 2, 'title': '200 Railway Stations In India To Get \"World-Class Facilities\", Says Minister', 'summary': 'As many as 200 railway stations across the country will get a facelift with modern amenities, Railways Minister Ashwini Vaishnaw said in Aurangabad on Monday.', 'source': 'Press Trust of India', 'location': 'Monday October 03, 2022, Aurangabad (Maharashtra)'}, {'#': 3, 'title': 'Video: Cops Walk With Sword-Wielding Right-Wing Activists At Karnataka Rally', 'summary': 'Sword-wielding participants at the rally in Udupi shouted slogans, even as policemen were seen walking next to them. A minister and an MLA were among the participants', 'source': 'Written by Sreeja M S , Edited by Sanjib Kumar Das', 'location': 'Monday October 03, 2022, Bengaluru'}, {'#': 5, 'title': 'Over 140 Million In Gulf Countries Face Food Crisis: IMF', 'summary': 'The managing director of the International Monetary Fund, Kristalina Georgieva, said on Monday that 48 countries are exposed to the global food crisis, and half of them are vulnerable.', 'source': 'Reuters', 'location': 'Monday October 03, 2022, Riyadh'}, {'#': 6, 'title': '20-Year-Old Dies After Falling Into Lift Shaft of Building In Jaipur: Cops', 'summary': 'A 20-year-old youth died after falling into a lift shaft from 11th floor of an apartment building in Bhankrota area in Jaipur, police said on Monday.', 'source': 'Press Trust of India', 'location': 'Monday October 03, 2022, Jaipur'}, {'#': 7, 'title': 'Karnataka Government \"Most Corrupt\" In Entire Country, Says Rahul Gandhi', 'summary': 'Congress leader Rahul Gandhi on Monday dubbed the BJP government in Karnataka as the \"most corrupt\" in the country.', 'source': 'Press Trust of India', 'location': 'Monday October 03, 2022, Mysuru/Pandavapura (Karnataka)'}, {'#': 9, 'title': 'Virat Kohli Becomes First Indian To Register This Big Record In T20 History', 'summary': \"Virat Kohli achieved the feat during India's second T20I match against South Africa at Guwahati.\", 'source': 'NDTV Sports Desk', 'location': 'Monday October 03, 2022'}, {'#': 10, 'title': 'Watch: Bangladesh Man Does 117 Bum Skips In 30 Seconds, Sets Guinness World Record', 'summary': 'In a feat exuding speed and hand-feet coordination, a man from Bangladesh recently wowed all by doing over a hundred bum skips in less than a minute and creating a Guinness World Record (GWR) for the same.', 'source': 'Edited by Bhavya Sukheja', 'location': 'Monday October 03, 2022'}, {'#': 11, 'title': 'As He Plots Liverpool Revival, Jurgen Klopp Says Even Cristiano Ronaldo Has Confidence Dips', 'summary': \"Liverpool manager Jurgen Klopp says even Cristiano Ronaldo and Lionel Messi are not immune from confidence issues as he seeks to find a solution to his side's frustrating inconsistency\", 'source': 'Agence France-Presse', 'location': 'Monday October 03, 2022'}, {'#': 12, 'title': 'NEET PG Counselling 2022: Round 1 Seat Resignation Facility Begins; Details Here', 'summary': 'The Medical Counselling Committee has started the seat resignation facility for NEET PG counselling 2022 today, October 3.', 'source': 'Written by Adarsh Srivastava', 'location': 'Monday October 03, 2022'}, {'#': 13, 'title': 'Ukraine Nuclear Plant Chief Freed By Russia: UN Watchdog', 'summary': \"The detained chief of Ukraine's Russian-held nuclear power plant has been released, the head of the UN nuclear watchdog said Monday.\", 'source': 'Agence France-Presse', 'location': 'Monday October 03, 2022, Veinna, Austria'}, {'#': 14, 'title': \"Legends League Cricket: Yusuf Pathan Reveals Why He Wants To Have Chris Gayle's Bat\", 'summary': \"Chris Gayle and Yusuf Pathan admitted that they were in awe of each other's batting capabilities and wanted to exchange bats with each other.\", 'source': 'NDTV Sports Desk', 'location': 'Monday October 03, 2022'}, {'#': 15, 'title': \"Jasprit Bumrah Ruled Out Of T20 World Cup. Here's How The World Reacted\", 'summary': 'Jasprit Bumrah has been officially ruled out of T20 World Cup 2022 on Monday. The BCCI confirmed the news via a press release.', 'source': 'NDTV Sports Desk', 'location': 'Monday October 03, 2022'}, {'#': 16, 'title': 'Legends League Cricket: Mitchell Johnson Fined 50% Match Fees For Altercation With Yusuf Pathan', 'summary': \"India Capitals' pacer Mitchell Johnson has been handed a warning and a fine of 50 percent of his match fees for involving in a heated argument during the Legends League match at the Barkatullah Khan Stadium on Sunday.\", 'source': 'NDTV Sports Desk', 'location': 'Monday October 03, 2022'}, {'#': 17, 'title': 'Tiger Kills At Least 10 Cows In Kerala, Forest Officials Sets Up Cages Amid Protest', 'summary': 'At least 10 cows were found dead in a tiger attack that happened over the last two days at regions near Nyamakkad estate in Munnar, the forest officials said.', 'source': 'Press Trust of India', 'location': 'Monday October 03, 2022, Idukki, Kerala'}]\n"
     ]
    }
   ],
   "source": [
    "#final extraction code\n",
    "news_data = [] #empty list\n",
    "for idx, entry in enumerate(news):\n",
    "    title = entry.find(\"h2\",attrs={\"class\":\"newsHdng\"})\n",
    "    summary = entry.find(\"p\",attrs={\"class\":\"newsCont\"})\n",
    "    info = entry.find(\"span\",attrs={\"class\":\"posted-by\"})\n",
    "    if title is not None:\n",
    "        source,location = info.text.split(\"|\")\n",
    "        news_data.append({\n",
    "            \"#\": idx+1,\n",
    "            \"title\": title.text.strip(),\n",
    "            \"summary\": summary.text.strip(),\n",
    "            \"source\": source.strip(),\n",
    "            \"location\": location.strip(),\n",
    "        })\n",
    "    else :\n",
    "        print(\"no titles found\")\n",
    "print(news_data)"
   ]
  }
 ],
 "metadata": {
  "kernelspec": {
   "display_name": "Python 3.9.12 ('base')",
   "language": "python",
   "name": "python3"
  },
  "language_info": {
   "codemirror_mode": {
    "name": "ipython",
    "version": 3
   },
   "file_extension": ".py",
   "mimetype": "text/x-python",
   "name": "python",
   "nbconvert_exporter": "python",
   "pygments_lexer": "ipython3",
   "version": "3.9.12"
  },
  "orig_nbformat": 4,
  "vscode": {
   "interpreter": {
    "hash": "c28b3cece02bc02c12fa5766a988d4443922620539affbc7b46a193a80d0f256"
   }
  }
 },
 "nbformat": 4,
 "nbformat_minor": 2
}
