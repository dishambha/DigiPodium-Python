{
 "cells": [
  {
   "cell_type": "code",
   "execution_count": 54,
   "metadata": {},
   "outputs": [],
   "source": [
    "import requests\n",
    "from bs4 import BeautifulSoup"
   ]
  },
  {
   "cell_type": "code",
   "execution_count": 55,
   "metadata": {},
   "outputs": [
    {
     "name": "stdout",
     "output_type": "stream",
     "text": [
      "200\n"
     ]
    }
   ],
   "source": [
    "addr = \"https://www.ndtv.com/latest\"\n",
    "page = requests.get(addr)\n",
    "print(page.status_code)"
   ]
  },
  {
   "cell_type": "code",
   "execution_count": 56,
   "metadata": {},
   "outputs": [],
   "source": [
    "soup = BeautifulSoup(page.text)"
   ]
  },
  {
   "cell_type": "code",
   "execution_count": 57,
   "metadata": {},
   "outputs": [
    {
     "name": "stdout",
     "output_type": "stream",
     "text": [
      "target found\n"
     ]
    }
   ],
   "source": [
    "target = soup.find(\"div\", attrs={\"class\":\"lisingNews\"})\n",
    "if target is not None :\n",
    "    print(\"target found\")\n",
    "else:\n",
    "    print(\"could not find targetted area\")"
   ]
  },
  {
   "cell_type": "code",
   "execution_count": 58,
   "metadata": {},
   "outputs": [
    {
     "name": "stdout",
     "output_type": "stream",
     "text": [
      "17 news headlines found.\n"
     ]
    }
   ],
   "source": [
    "news = target.find_all(\"div\",attrs={\"class\":\"news_Itm\"})\n",
    "if news is not None:\n",
    "    print(len(news),\"news headlines found.\")\n",
    "else:\n",
    "    print(\"could not find the tags you are looking for\")"
   ]
  },
  {
   "cell_type": "code",
   "execution_count": 59,
   "metadata": {},
   "outputs": [
    {
     "name": "stdout",
     "output_type": "stream",
     "text": [
      "no titles found\n",
      "no titles found\n",
      "[{'#': 1, 'title': \"Don't Touch Foreigners: Chinese Doctor's Advice To Avoid Monkeypox\", 'summary': 'A top Chinese health official has warned citizens against having skin contact with foreigners and recent returnees from abroad to avoid contracting Monkeypox, triggering a social media backlash for his \"racist and discriminatory\" remarks.', 'source': 'Press Trust of India', 'location': 'Sunday September 18, 2022, Beijing'}, {'#': 2, 'title': 'Fury Grows In Iran Over Woman Who Died After Hijab Arrest: Report', 'summary': 'Protests persisted on Sunday and #MahsaAmini became one of the top hashtags ever on Persian-language Twitter as Iranians fumed over the death of a young woman in the custody of morality police enforcing strict hijab rules.', 'source': 'Reuters', 'location': 'Sunday September 18, 2022, Dubai'}, {'#': 3, 'title': '\"Will Build House\": Kerala Auto Driver Wins Rs 25 Crore In Lottery', 'summary': 'An auto-rickshaw driver, who was planning to go to Malaysia to work as a chef, on Sunday won the Rs 25 crore Onam bumper lottery in Kerala, just a day after his application for a loan of Rs 3 lakh was approved.', 'source': 'Press Trust of India', 'location': 'Sunday September 18, 2022, Thiruvananthapuram'}, {'#': 5, 'title': 'Jacqueline Fernandez Summoned Again In 200 Crores Extortion Case: Sources', 'summary': 'Actor Jacqueline Fernandez has been summoned again tomorrow by the Delhi Police for questioning in a Rs 200 crore extortion case linked to jailed conman Sukesh Chandrashekar, sources have said.', 'source': 'Edited by Debanish Achom', 'location': 'Sunday September 18, 2022, New Delhi'}, {'#': 6, 'title': \"AIFF Extends Igor Stimac's Contract As Indian Men's Football Team Head Coach\", 'summary': \"Igor Stimac's contract as the head coach of the Indian men's football team has been extended till the end of AFC Asian Cup in July next year.\", 'source': 'Press Trust of India', 'location': 'Sunday September 18, 2022'}, {'#': 7, 'title': '4 Teenagers Arrested For Bomb Blast At School: Bengal Police', 'summary': \"Four persons were arrested in connection with a bomb blast in a school in Titagarh area in West Bengal's North 24-Parganas district, a senior police officer said Sunday.\", 'source': 'Press Trust of India', 'location': 'Sunday September 18, 2022, Kolkata'}, {'#': 9, 'title': 'Man Dies After Collapsing During Marathon In Maharashtra: Cops', 'summary': 'A 32-year-old man died after collapsing while running a half marathon in Satara city of western Maharashtra on Sunday, police said.', 'source': 'Press Trust of India', 'location': 'Sunday September 18, 2022, Satara'}, {'#': 10, 'title': 'Watch: China Tests \"Flying\" Cars That Can Reach 230 Km Per Hour', 'summary': 'A floating car propelled by magnets that can travel up to 230 kilometres per hour is being tested in China.', 'source': 'Edited by Nikhil Pandey', 'location': 'Sunday September 18, 2022'}, {'#': 11, 'title': 'President Murmu Signs Condolence Book For Queen Elizabeth II In London', 'summary': 'President Droupadi Murmu on Sunday signed the condolence book for Queen Elizabeth II, at the Lancaster House near Buckingham Palace in London.', 'source': 'Asian News International', 'location': 'Sunday September 18, 2022, London'}, {'#': 12, 'title': \"Video: Wolves Defender Makes Horror Tackle, Kicks Manchester City Star's Stomach\", 'summary': 'Nathan Collins had no complains for the decision as he walked off the pitch looking disappointed.', 'source': 'NDTV Sports Desk', 'location': 'Sunday September 18, 2022'}, {'#': 13, 'title': 'Video: 2 Men On Bike Sneak Up On Woman, Snatch Chain On Delhi Road', 'summary': 'Two men on a bike snatched a chain from a woman in Delhi on Sunday morning. The incident was caught on a CCTV camera nearby.', 'source': 'Edited by Divyam Sharma', 'location': 'Sunday September 18, 2022, New Delhi'}, {'#': 14, 'title': 'KEAM 2022 Trial Allotment List Likely Today; Details Here', 'summary': 'Candidates will be able to check and download the KEAM 2022 phase 1 trial allotments list through the official website - cee.kerala.gov.in.', 'source': 'Written by Arpita Das', 'location': 'Sunday September 18, 2022'}, {'#': 15, 'title': 'Man Wanted In 4 States Arrested After Encounter In Haryana: Cops', 'summary': \"The kingpin of an interstate ATM robbers gang and wanted in four states including Haryana was arrested after a brief encounter near Falendi village in Haryana's district Nuh on Sunday, police said.\", 'source': 'Press Trust of India', 'location': 'Sunday September 18, 2022, Nuh'}, {'#': 16, 'title': \"Days Before Cyrus Mistry's Death, Sachin Tendulkar's Advice On Seat Belts\", 'summary': 'Batting legend Sachin Tendulkar on Sunday recalled his interview advocating the wearing of seat belts as the best measure of protection, days before former Tata Sons chairman Cyrus Mistry was killed in a car crash near Mumbai.', 'source': 'Press Trust of India', 'location': 'Sunday September 18, 2022, Indore'}, {'#': 17, 'title': 'Isolated Prince Andrew Pays Tribute To \"Mummy, Mother And Majesty\"', 'summary': 'Prince Andrew, who has effectively been banished from royal life amid ongoing fallout from sex assault accusations, on Sunday paid tribute to the \"compassion\" of his \"mummy\", Queen Elizabeth II.', 'source': 'Agence France-Presse', 'location': 'Sunday September 18, 2022, London'}]\n"
     ]
    }
   ],
   "source": [
    "#final extraction code\n",
    "news_data = [] #empty list\n",
    "for idx, entry in enumerate(news):\n",
    "    title = entry.find(\"h2\",attrs={\"class\":\"newsHdng\"})\n",
    "    summary = entry.find(\"p\",attrs={\"class\":\"newsCont\"})\n",
    "    info = entry.find(\"span\",attrs={\"class\":\"posted-by\"})\n",
    "    if title is not None:\n",
    "        source,location = info.text.split(\"|\")\n",
    "        news_data.append({\n",
    "            \"#\": idx+1,\n",
    "            \"title\": title.text.strip(),\n",
    "            \"summary\": summary.text.strip(),\n",
    "            \"source\": source.strip(),\n",
    "            \"location\": location.strip(),\n",
    "        })\n",
    "    else :\n",
    "        print(\"no titles found\")\n",
    "print(news_data)"
   ]
  }
 ],
 "metadata": {
  "kernelspec": {
   "display_name": "Python 3.9.12 ('base')",
   "language": "python",
   "name": "python3"
  },
  "language_info": {
   "codemirror_mode": {
    "name": "ipython",
    "version": 3
   },
   "file_extension": ".py",
   "mimetype": "text/x-python",
   "name": "python",
   "nbconvert_exporter": "python",
   "pygments_lexer": "ipython3",
   "version": "3.9.12"
  },
  "orig_nbformat": 4,
  "vscode": {
   "interpreter": {
    "hash": "c28b3cece02bc02c12fa5766a988d4443922620539affbc7b46a193a80d0f256"
   }
  }
 },
 "nbformat": 4,
 "nbformat_minor": 2
}
