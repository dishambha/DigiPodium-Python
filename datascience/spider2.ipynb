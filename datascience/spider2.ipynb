{
 "cells": [
  {
   "cell_type": "code",
   "execution_count": 5,
   "metadata": {},
   "outputs": [],
   "source": [
    "import requests\n",
    "from bs4 import BeautifulSoup"
   ]
  },
  {
   "cell_type": "code",
   "execution_count": 6,
   "metadata": {},
   "outputs": [],
   "source": [
    "def load_soup(url):\n",
    "    page = requests.get(url)\n",
    "    if page.status_code == 200:\n",
    "        return BeautifulSoup(page.text)"
   ]
  },
  {
   "cell_type": "code",
   "execution_count": 7,
   "metadata": {},
   "outputs": [
    {
     "name": "stdout",
     "output_type": "stream",
     "text": [
      "Data Loaded\n"
     ]
    }
   ],
   "source": [
    "url = \"https://www.flipkart.com/search?q=smartphone&as=on&as-show=on&otracker=AS_Query_OrganicAutoSuggest_4_5_na_na_na&otracker1=AS_Query_OrganicAutoSuggest_4_5_na_na_na&as-pos=4&as-type=RECENT&suggestionId=smartphone&requestId=60a419e5-f266-4c9e-b8fc-c98e687d999d&as-searchtext=smart\"\n",
    "soup = load_soup(url)\n",
    "if soup is not None:\n",
    "    print(\"Data Loaded\")\n",
    "else:\n",
    "    print(\"Data could not be loaded\")"
   ]
  },
  {
   "cell_type": "code",
   "execution_count": 8,
   "metadata": {},
   "outputs": [
    {
     "name": "stdout",
     "output_type": "stream",
     "text": [
      "your target area found\n"
     ]
    }
   ],
   "source": [
    "target = soup.find('div' , class_='_1YokD2 _3Mn1Gg')\n",
    "if target is not None:\n",
    "    print(\"your target area found\")\n",
    "else:\n",
    "    print(\"very bad coder you are\")"
   ]
  },
  {
   "cell_type": "code",
   "execution_count": 9,
   "metadata": {},
   "outputs": [
    {
     "name": "stdout",
     "output_type": "stream",
     "text": [
      "24 items found in your page\n"
     ]
    }
   ],
   "source": [
    "items = target.find_all('div',class_ = \"_2kHMtA\")\n",
    "if items is not None:\n",
    "    print(len(items),\"items found in your page\")\n",
    "else:\n",
    "    print(\"you shoud go\")"
   ]
  },
  {
   "cell_type": "code",
   "execution_count": 10,
   "metadata": {},
   "outputs": [],
   "source": [
    "data =[] #blank\n",
    "for product in items:\n",
    "    name = product.find('div',class_=\"_4rR01T\")\n",
    "    oprice = product.find(\"div\",class_=\"_3I9_wc _27UcVY\")\n",
    "    dprice = product.find(\"div\",class_=\"_30jeq3 _1_WHN1\")\n",
    "    exc_price = product.find(\"div\",class_=\"_3I9_wc _27UcVY\")\n",
    "    rating_count = product.find(\"div\",class_=\"gUuXy-\")\n",
    "    rating = product.find(\"div\",class_=\"_3LWZlK\")\n",
    "    content = {} #empty dic\n",
    "    content[\"name\"]=name.text\n",
    "    content[\"price\"]=dprice.text\n",
    "    \n",
    "    try:\n",
    "        content[\"original_price\"]=oprice.text\n",
    "    except:\n",
    "        content[\"original_price\"]= dprice.text\n",
    "\n",
    "    try:\n",
    "        content[\"exchange upto\"]=exc_price.text\n",
    "    except:\n",
    "        content['exchange upto']= None\n",
    "\n",
    "    try:\n",
    "        content[\"rating\"]=rating.text\n",
    "    except:\n",
    "        content[\"rating\"] =None\n",
    "\n",
    "    try:\n",
    "        content[\"rating_count\"]=rating_count.text\n",
    "    except:\n",
    "        content[\"rating_count\"]=None\n",
    "    \n",
    "    data.append(content)"
   ]
  },
  {
   "cell_type": "code",
   "execution_count": 22,
   "metadata": {},
   "outputs": [
    {
     "data": {
      "text/plain": [
       "array([[[[ 1.35827877e-311,  1.35847291e-311,  1.35828056e-311,\n",
       "           1.35827947e-311,  1.35847291e-311,  1.35828056e-311],\n",
       "         [ 1.35847291e-311,  1.35828056e-311,  1.35831614e-311,\n",
       "           1.35828056e-311,  1.35847291e-311,  1.35828056e-311],\n",
       "         [ 1.35847291e-311,  1.35828056e-311,  1.35847291e-311,\n",
       "           1.35828056e-311,  1.35847291e-311,  1.35828056e-311],\n",
       "         [ 1.35847291e-311,  1.35828056e-311,  1.35847291e-311,\n",
       "           1.35828056e-311,  1.35847291e-311,  1.35828056e-311],\n",
       "         [ 1.35847291e-311,  1.35828056e-311,  1.35847291e-311,\n",
       "           1.35828056e-311,  1.35847291e-311,  1.35828056e-311],\n",
       "         [ 1.35847291e-311,  1.35828056e-311,  1.35847291e-311,\n",
       "           1.35828056e-311,  1.35847291e-311,  1.35828056e-311],\n",
       "         [ 1.35847291e-311,  1.35827863e-311,  1.35828056e-311,\n",
       "           1.35847291e-311,  1.35828056e-311,  1.35847291e-311],\n",
       "         [ 1.35828056e-311,  1.35847291e-311,  1.35828056e-311,\n",
       "           1.35847291e-311,  1.35828056e-311,  1.35847291e-311],\n",
       "         [ 1.35828056e-311,  1.35827877e-311,  1.35831614e-311,\n",
       "           1.35828056e-311,  1.35827947e-311,  1.35827877e-311],\n",
       "         [ 1.35847291e-311,  1.35828056e-311,  1.35847291e-311,\n",
       "           1.35828056e-311,  1.35847291e-311,  1.35828056e-311],\n",
       "         [ 1.35847291e-311,  1.35828056e-311,  1.35847291e-311,\n",
       "           1.35828056e-311,  1.35847292e-311,  1.35828056e-311],\n",
       "         [ 1.35847292e-311,  1.35828056e-311,  1.35847292e-311,\n",
       "           1.35828056e-311,  1.35847292e-311,  1.35828056e-311],\n",
       "         [ 1.35847292e-311,  1.35827877e-311,  1.35828056e-311,\n",
       "           1.35827877e-311,  1.35847292e-311,  1.35828056e-311],\n",
       "         [ 1.35847292e-311,  1.35828056e-311,  1.35847292e-311,\n",
       "           1.35828056e-311,  1.35847292e-311,  1.35828056e-311],\n",
       "         [ 1.35847292e-311,  1.35828056e-311,  1.35847292e-311,\n",
       "           1.35828056e-311,  1.35847292e-311,  1.35828056e-311],\n",
       "         [ 1.35847292e-311,  1.35828056e-311,  1.35847292e-311,\n",
       "           1.35828056e-311,  1.35847292e-311,  1.35827877e-311],\n",
       "         [ 1.35828056e-311,  1.35827877e-311,  1.35847292e-311,\n",
       "           1.35828056e-311,  1.35847292e-311,  1.35828056e-311],\n",
       "         [ 1.35847294e-311,  1.35828056e-311,  1.35847294e-311,\n",
       "           1.35828056e-311,  1.35834082e-311,  1.35828056e-311],\n",
       "         [ 1.35831614e-311,  1.35828056e-311,  1.35847288e-311,\n",
       "           1.35828056e-311,  1.35846911e-311,  1.35828056e-311],\n",
       "         [ 1.35846911e-311,  1.35828056e-311,  1.35846911e-311,\n",
       "           1.35827877e-311,  1.35828056e-311,  1.35827877e-311],\n",
       "         [ 1.35847294e-311,  1.35828056e-311,  1.35847294e-311,\n",
       "           1.35828056e-311,  1.35847294e-311,  1.35828056e-311],\n",
       "         [ 1.35847294e-311,  1.35828056e-311,  1.35847294e-311,\n",
       "           1.35828056e-311,  1.35847294e-311,  1.35828056e-311],\n",
       "         [ 1.35847294e-311,  1.35828056e-311,  1.35847294e-311,\n",
       "           1.35828056e-311,  1.35847294e-311,  1.35828056e-311],\n",
       "         [ 1.35847294e-311,  1.35827877e-311,  1.35828056e-311,\n",
       "           1.35827877e-311,  1.35847294e-311,  1.35828056e-311],\n",
       "         [ 1.35847306e-311,  1.35828056e-311,  1.35847306e-311,\n",
       "           1.35828056e-311,  1.01760873e-305, -1.02300234e-234]]]])"
      ]
     },
     "execution_count": 22,
     "metadata": {},
     "output_type": "execute_result"
    }
   ],
   "source": [
    "# import numpy as np\n",
    "# data = np.array([[data]])\n",
    "# data"
   ]
  },
  {
   "cell_type": "code",
   "execution_count": 23,
   "metadata": {},
   "outputs": [
    {
     "ename": "ValueError",
     "evalue": "Must pass 2-d input. shape=(1, 1, 25, 6)",
     "output_type": "error",
     "traceback": [
      "\u001b[1;31m---------------------------------------------------------------------------\u001b[0m",
      "\u001b[1;31mValueError\u001b[0m                                Traceback (most recent call last)",
      "Cell \u001b[1;32mIn [23], line 2\u001b[0m\n\u001b[0;32m      1\u001b[0m \u001b[38;5;28;01mimport\u001b[39;00m \u001b[38;5;21;01mpandas\u001b[39;00m \u001b[38;5;28;01mas\u001b[39;00m \u001b[38;5;21;01mpd\u001b[39;00m\n\u001b[1;32m----> 2\u001b[0m pd\u001b[38;5;241m.\u001b[39mDataFrame(data)\u001b[38;5;241m.\u001b[39mto_csv(\u001b[38;5;124m\"\u001b[39m\u001b[38;5;124mflipkar mobiledata.csv\u001b[39m\u001b[38;5;124m\"\u001b[39m)\n",
      "File \u001b[1;32mc:\\Users\\public\\miniconda3\\lib\\site-packages\\pandas\\core\\frame.py:694\u001b[0m, in \u001b[0;36mDataFrame.__init__\u001b[1;34m(self, data, index, columns, dtype, copy)\u001b[0m\n\u001b[0;32m    684\u001b[0m         mgr \u001b[39m=\u001b[39m dict_to_mgr(\n\u001b[0;32m    685\u001b[0m             \u001b[39m# error: Item \"ndarray\" of \"Union[ndarray, Series, Index]\" has no\u001b[39;00m\n\u001b[0;32m    686\u001b[0m             \u001b[39m# attribute \"name\"\u001b[39;00m\n\u001b[1;32m   (...)\u001b[0m\n\u001b[0;32m    691\u001b[0m             typ\u001b[39m=\u001b[39mmanager,\n\u001b[0;32m    692\u001b[0m         )\n\u001b[0;32m    693\u001b[0m     \u001b[39melse\u001b[39;00m:\n\u001b[1;32m--> 694\u001b[0m         mgr \u001b[39m=\u001b[39m ndarray_to_mgr(\n\u001b[0;32m    695\u001b[0m             data,\n\u001b[0;32m    696\u001b[0m             index,\n\u001b[0;32m    697\u001b[0m             columns,\n\u001b[0;32m    698\u001b[0m             dtype\u001b[39m=\u001b[39;49mdtype,\n\u001b[0;32m    699\u001b[0m             copy\u001b[39m=\u001b[39;49mcopy,\n\u001b[0;32m    700\u001b[0m             typ\u001b[39m=\u001b[39;49mmanager,\n\u001b[0;32m    701\u001b[0m         )\n\u001b[0;32m    703\u001b[0m \u001b[39m# For data is list-like, or Iterable (will consume into list)\u001b[39;00m\n\u001b[0;32m    704\u001b[0m \u001b[39melif\u001b[39;00m is_list_like(data):\n",
      "File \u001b[1;32mc:\\Users\\public\\miniconda3\\lib\\site-packages\\pandas\\core\\internals\\construction.py:331\u001b[0m, in \u001b[0;36mndarray_to_mgr\u001b[1;34m(values, index, columns, dtype, copy, typ)\u001b[0m\n\u001b[0;32m    326\u001b[0m         values \u001b[39m=\u001b[39m values\u001b[39m.\u001b[39mreshape(\u001b[39m-\u001b[39m\u001b[39m1\u001b[39m, \u001b[39m1\u001b[39m)\n\u001b[0;32m    328\u001b[0m \u001b[39melse\u001b[39;00m:\n\u001b[0;32m    329\u001b[0m     \u001b[39m# by definition an array here\u001b[39;00m\n\u001b[0;32m    330\u001b[0m     \u001b[39m# the dtypes will be coerced to a single dtype\u001b[39;00m\n\u001b[1;32m--> 331\u001b[0m     values \u001b[39m=\u001b[39m _prep_ndarray(values, copy\u001b[39m=\u001b[39;49mcopy_on_sanitize)\n\u001b[0;32m    333\u001b[0m \u001b[39mif\u001b[39;00m dtype \u001b[39mis\u001b[39;00m \u001b[39mnot\u001b[39;00m \u001b[39mNone\u001b[39;00m \u001b[39mand\u001b[39;00m \u001b[39mnot\u001b[39;00m is_dtype_equal(values\u001b[39m.\u001b[39mdtype, dtype):\n\u001b[0;32m    334\u001b[0m     shape \u001b[39m=\u001b[39m values\u001b[39m.\u001b[39mshape\n",
      "File \u001b[1;32mc:\\Users\\public\\miniconda3\\lib\\site-packages\\pandas\\core\\internals\\construction.py:591\u001b[0m, in \u001b[0;36m_prep_ndarray\u001b[1;34m(values, copy)\u001b[0m\n\u001b[0;32m    589\u001b[0m     values \u001b[39m=\u001b[39m values\u001b[39m.\u001b[39mreshape((values\u001b[39m.\u001b[39mshape[\u001b[39m0\u001b[39m], \u001b[39m1\u001b[39m))\n\u001b[0;32m    590\u001b[0m \u001b[39melif\u001b[39;00m values\u001b[39m.\u001b[39mndim \u001b[39m!=\u001b[39m \u001b[39m2\u001b[39m:\n\u001b[1;32m--> 591\u001b[0m     \u001b[39mraise\u001b[39;00m \u001b[39mValueError\u001b[39;00m(\u001b[39mf\u001b[39m\u001b[39m\"\u001b[39m\u001b[39mMust pass 2-d input. shape=\u001b[39m\u001b[39m{\u001b[39;00mvalues\u001b[39m.\u001b[39mshape\u001b[39m}\u001b[39;00m\u001b[39m\"\u001b[39m)\n\u001b[0;32m    593\u001b[0m \u001b[39mreturn\u001b[39;00m values\n",
      "\u001b[1;31mValueError\u001b[0m: Must pass 2-d input. shape=(1, 1, 25, 6)"
     ]
    }
   ],
   "source": [
    "import pandas as pd\n",
    "pd.DataFrame(data).to_csv(\"flipkar mobiledata.csv\")"
   ]
  }
 ],
 "metadata": {
  "kernelspec": {
   "display_name": "Python 3.9.12 ('base')",
   "language": "python",
   "name": "python3"
  },
  "language_info": {
   "codemirror_mode": {
    "name": "ipython",
    "version": 3
   },
   "file_extension": ".py",
   "mimetype": "text/x-python",
   "name": "python",
   "nbconvert_exporter": "python",
   "pygments_lexer": "ipython3",
   "version": "3.9.12"
  },
  "orig_nbformat": 4,
  "vscode": {
   "interpreter": {
    "hash": "c28b3cece02bc02c12fa5766a988d4443922620539affbc7b46a193a80d0f256"
   }
  }
 },
 "nbformat": 4,
 "nbformat_minor": 2
}
