{
 "cells": [
  {
   "cell_type": "code",
   "execution_count": 1,
   "metadata": {},
   "outputs": [],
   "source": [
    "import requests\n",
    "from bs4 import BeautifulSoup"
   ]
  },
  {
   "cell_type": "code",
   "execution_count": 2,
   "metadata": {},
   "outputs": [],
   "source": [
    "def load_soup(url):\n",
    "    page = requests.get(url)\n",
    "    if page.status_code == 200:\n",
    "        return BeautifulSoup(page.text)"
   ]
  },
  {
   "cell_type": "code",
   "execution_count": 3,
   "metadata": {},
   "outputs": [
    {
     "name": "stdout",
     "output_type": "stream",
     "text": [
      "Data Loaded\n"
     ]
    }
   ],
   "source": [
    "url = \"https://www.flipkart.com/search?q=smartphone&as=on&as-show=on&otracker=AS_Query_OrganicAutoSuggest_4_5_na_na_na&otracker1=AS_Query_OrganicAutoSuggest_4_5_na_na_na&as-pos=4&as-type=RECENT&suggestionId=smartphone&requestId=60a419e5-f266-4c9e-b8fc-c98e687d999d&as-searchtext=smart\"\n",
    "soup = load_soup(url)\n",
    "if soup is not None:\n",
    "    print(\"Data Loaded\")\n",
    "else:\n",
    "    print(\"Data could not be loaded\")"
   ]
  },
  {
   "cell_type": "code",
   "execution_count": 4,
   "metadata": {},
   "outputs": [
    {
     "name": "stdout",
     "output_type": "stream",
     "text": [
      "your target area found\n"
     ]
    }
   ],
   "source": [
    "target = soup.find('div' , class_='_1YokD2 _3Mn1Gg')\n",
    "if target is not None:\n",
    "    print(\"your target area found\")\n",
    "else:\n",
    "    print(\"very bad coder you are\")"
   ]
  },
  {
   "cell_type": "code",
   "execution_count": 5,
   "metadata": {},
   "outputs": [
    {
     "name": "stdout",
     "output_type": "stream",
     "text": [
      "24 items found in your page\n"
     ]
    }
   ],
   "source": [
    "items = target.find_all('div',class_ = \"_2kHMtA\")\n",
    "if items is not None:\n",
    "    print(len(items),\"items found in your page\")\n",
    "else:\n",
    "    print(\"you shoud go\")"
   ]
  },
  {
   "cell_type": "code",
   "execution_count": 6,
   "metadata": {},
   "outputs": [],
   "source": [
    "data =[] #blank\n",
    "for product in items:\n",
    "    name = product.find('div',class_=\"_4rR01T\")\n",
    "    oprice = product.find(\"div\",class_=\"_3I9_wc _27UcVY\")\n",
    "    dprice = product.find(\"div\",class_=\"_30jeq3 _1_WHN1\")\n",
    "    exc_price = product.find(\"div\",class_=\"_3I9_wc _27UcVY\")\n",
    "    rating_count = product.find(\"div\",class_=\"gUuXy-\")\n",
    "    rating = product.find(\"div\",class_=\"_3LWZlK\")\n",
    "    content = {} #empty dic\n",
    "    content[\"name\"]=name.text\n",
    "    content[\"price\"]=dprice.text\n",
    "    \n",
    "    try:\n",
    "        content[\"original_price\"]=oprice.text\n",
    "    except:\n",
    "        content[\"original_price\"]= dprice.text\n",
    "\n",
    "    try:\n",
    "        content[\"exchange upto\"]=exc_price.text\n",
    "    except:\n",
    "        content['exchange upto']= None\n",
    "\n",
    "    try:\n",
    "        content[\"rating\"]=rating.text\n",
    "    except:\n",
    "        content[\"rating\"] =None\n",
    "\n",
    "    try:\n",
    "        content[\"rating_count\"]=rating_count.text\n",
    "    except:\n",
    "        content[\"rating_count\"]=None\n",
    "    \n",
    "    data.append(content)"
   ]
  },
  {
   "cell_type": "code",
   "execution_count": 7,
   "metadata": {},
   "outputs": [],
   "source": [
    "import pandas as pd\n",
    "pd.DataFrame(data).to_csv(\"flipkar mobiledata.csv\")"
   ]
  }
 ],
 "metadata": {
  "kernelspec": {
   "display_name": "Python 3.9.12 ('base')",
   "language": "python",
   "name": "python3"
  },
  "language_info": {
   "codemirror_mode": {
    "name": "ipython",
    "version": 3
   },
   "file_extension": ".py",
   "mimetype": "text/x-python",
   "name": "python",
   "nbconvert_exporter": "python",
   "pygments_lexer": "ipython3",
   "version": "3.9.12"
  },
  "orig_nbformat": 4,
  "vscode": {
   "interpreter": {
    "hash": "c28b3cece02bc02c12fa5766a988d4443922620539affbc7b46a193a80d0f256"
   }
  }
 },
 "nbformat": 4,
 "nbformat_minor": 2
}
